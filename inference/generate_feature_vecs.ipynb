{
 "cells": [
  {
   "cell_type": "code",
   "execution_count": null,
   "id": "6e2c9acf-088e-4afd-8a4a-d702b49f1c26",
   "metadata": {},
   "outputs": [],
   "source": [
    "import sys \n",
    "sys.path.append(\"../\") # adding root folder to the path\n",
    "\n",
    "import torch \n",
    "import torchvision\n",
    "from torchvision import transforms\n",
    "from torchvision.models import *\n",
    "from torchvision import datasets\n",
    "from tqdm import tqdm\n",
    "\n",
    "from MRL import *\n",
    "from imagenetv2_pytorch import ImageNetV2Dataset\n",
    "from argparse import ArgumentParser\n",
    "from utils import *\n",
    "\n",
    "# nesting list is by default from 8 to 2048 in powers of 2, can be modified from here.\n",
    "BATCH_SIZE = 1024\n",
    "IMG_SIZE = 256\n",
    "CENTER_CROP_SIZE = 224\n",
    "NESTING_LIST=[2**i for i in range(3, 12)]\n",
    "ROOT=\"\" # path to validation datasets\n",
    "model_weight_path = \"\""
   ]
  },
  {
   "cell_type": "code",
   "execution_count": null,
   "id": "337d9948-7302-492a-b138-dd5959f35ce4",
   "metadata": {},
   "outputs": [],
   "source": [
    "class FeatureExtractor(nn.Module):\n",
    "    def __init__(self, base_model):\n",
    "        super(FeatureExtractor, self).__init__()\n",
    "        # Removing the last fully connected layer\n",
    "        self.features = nn.Sequential(*list(base_model.children())[:-1])\n",
    "\n",
    "    def forward(self, x):\n",
    "        x = self.features(x)\n",
    "        x = torch.flatten(x, 1)\n",
    "        return x\n",
    "\n",
    "model = resnet50(False, weights=None)\n",
    "model = load_from_old_ckpt(model, False, NESTING_LIST, extract_ft=True)\n",
    "apply_blurpool(model)\t\n",
    "model.load_state_dict(get_ckpt(model_weight_path)) # Since our models have a torch DDP wrapper, we modify keys to exclude first 7 chars. \n",
    "model = model.cuda()\n",
    "model.eval()\n",
    "\n",
    "\n",
    "\n",
    "normalize = transforms.Normalize(mean=[0.485, 0.456, 0.406], std=[0.229, 0.224, 0.225])\n",
    "test_transform = transforms.Compose([\n",
    "\t\t\t\ttransforms.Resize(IMG_SIZE),\n",
    "\t\t\t\ttransforms.CenterCrop(CENTER_CROP_SIZE),\n",
    "\t\t\t\ttransforms.ToTensor(),\n",
    "\t\t\t\tnormalize])\n",
    "\n",
    "dataset = torchvision.datasets.ImageFolder(ROOT+'train/', transform=test_transform)\n",
    "dataloader = torch.utils.data.DataLoader(dataset, batch_size=BATCH_SIZE, num_workers=8, shuffle=False)"
   ]
  },
  {
   "cell_type": "code",
   "execution_count": 6,
   "id": "fd216913-2c38-401c-aae9-4152657c9e97",
   "metadata": {},
   "outputs": [
    {
     "name": "stderr",
     "output_type": "stream",
     "text": [
      "0it [00:05, ?it/s]"
     ]
    },
    {
     "name": "stdout",
     "output_type": "stream",
     "text": [
      "torch.Size([1024, 8])\n",
      "torch.Size([1024, 16])\n",
      "torch.Size([1024, 32])\n",
      "torch.Size([1024, 64])\n",
      "torch.Size([1024, 128])\n",
      "torch.Size([1024, 256])\n",
      "torch.Size([1024, 512])\n",
      "torch.Size([1024, 1024])\n",
      "torch.Size([1024, 2048])\n"
     ]
    },
    {
     "name": "stderr",
     "output_type": "stream",
     "text": [
      "\n"
     ]
    }
   ],
   "source": [
    "with torch.no_grad():\n",
    "    enumerable = tqdm(enumerate(dataloader))\n",
    "\n",
    "    for ii, (img_input, target) in enumerable:\n",
    "        logits = model(img_input.cuda())\n",
    "        for i, num_feat in enumerate(NESTING_LIST):\n",
    "            ft_vec = logits[i][:, :num_feat]\n",
    "            print(ft_vec.shape)\n",
    "        break"
   ]
  },
  {
   "cell_type": "code",
   "execution_count": null,
   "id": "11594575-db03-4967-88bc-ace0495d71e9",
   "metadata": {},
   "outputs": [],
   "source": []
  }
 ],
 "metadata": {
  "kernelspec": {
   "display_name": "Python 3 (ipykernel)",
   "language": "python",
   "name": "python3"
  },
  "language_info": {
   "codemirror_mode": {
    "name": "ipython",
    "version": 3
   },
   "file_extension": ".py",
   "mimetype": "text/x-python",
   "name": "python",
   "nbconvert_exporter": "python",
   "pygments_lexer": "ipython3",
   "version": "3.12.3"
  }
 },
 "nbformat": 4,
 "nbformat_minor": 5
}
