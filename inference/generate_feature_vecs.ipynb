{
 "cells": [
  {
   "cell_type": "code",
   "execution_count": 4,
   "id": "6e2c9acf-088e-4afd-8a4a-d702b49f1c26",
   "metadata": {},
   "outputs": [],
   "source": [
    "import os\n",
    "import pickle\n",
    "import sys\n",
    "sys.path.append(\"../\") # adding root folder to the path\n",
    "\n",
    "import torch \n",
    "import torchvision\n",
    "from torchvision import transforms\n",
    "from torchvision.models import *\n",
    "from torchvision import datasets\n",
    "from tqdm import tqdm\n",
    "\n",
    "from MRL import *\n",
    "from imagenetv2_pytorch import ImageNetV2Dataset\n",
    "from argparse import ArgumentParser\n",
    "from utils import *\n",
    "\n",
    "# nesting list is by default from 8 to 2048 in powers of 2, can be modified from here.\n",
    "BATCH_SIZE = 1024\n",
    "IMG_SIZE = 256\n",
    "CENTER_CROP_SIZE = 224\n",
    "NESTING_LIST=[2**i for i in range(3, 12)]\n",
    "ROOT=\"\"\n",
    "model_weight_path =\"\"\n",
    "output_dir =\"\""
   ]
  },
  {
   "cell_type": "code",
   "execution_count": 5,
   "id": "337d9948-7302-492a-b138-dd5959f35ce4",
   "metadata": {
    "scrolled": true
   },
   "outputs": [],
   "source": [
    "model = resnet50(False, weights=None)\n",
    "model = load_from_old_ckpt(model, False, NESTING_LIST, extract_ft=True)\n",
    "apply_blurpool(model)\t\n",
    "model.load_state_dict(get_ckpt(model_weight_path)) # Since our models have a torch DDP wrapper, we modify keys to exclude first 7 chars. \n",
    "model = model.cuda()\n",
    "model.eval()\n",
    "\n",
    "normalize = transforms.Normalize(mean=[0.485, 0.456, 0.406], std=[0.229, 0.224, 0.225])\n",
    "test_transform = transforms.Compose([\n",
    "\t\t\t\ttransforms.Resize(IMG_SIZE),\n",
    "\t\t\t\ttransforms.CenterCrop(CENTER_CROP_SIZE),\n",
    "\t\t\t\ttransforms.ToTensor(),\n",
    "\t\t\t\tnormalize])\n",
    "\n",
    "dataset = torchvision.datasets.ImageFolder(ROOT+'train/', transform=test_transform)\n",
    "idx_to_class = {v: k for k, v in dataset.class_to_idx.items()} \n",
    "dataloader = torch.utils.data.DataLoader(dataset, batch_size=BATCH_SIZE, num_workers=8, shuffle=False)"
   ]
  },
  {
   "cell_type": "code",
   "execution_count": null,
   "id": "fd216913-2c38-401c-aae9-4152657c9e97",
   "metadata": {},
   "outputs": [
    {
     "name": "stderr",
     "output_type": "stream",
     "text": [
      " 73%|█████████████████████████████████████████████████████████████████████████████████████████████████████████▋                                      | 919/1252 [47:36<08:47,  1.58s/it]"
     ]
    }
   ],
   "source": [
    "ft_to_vecs = {ft : [] for ft in NESTING_LIST}\n",
    "ft_to_label_to_vecs = {ft : {k : [] for k in dataset.class_to_idx} for ft in NESTING_LIST}\n",
    "\n",
    "with torch.no_grad():\n",
    "    for img_inputs, labels in tqdm(dataloader):\n",
    "        logits = model(img_inputs.cuda())\n",
    "        label_names = [idx_to_class[label.item()] for label in labels]\n",
    "\n",
    "        for i, num_feat in enumerate(NESTING_LIST):\n",
    "            for ft_vec, label in zip(logits[i], label_names):\n",
    "                ft_vec = ft_vec.cpu()\n",
    "                ft_to_vecs[num_feat].append(ft_vec)\n",
    "                ft_to_label_to_vecs[num_feat][label].append(ft_vec)\n",
    "\n",
    "with open(f\"{output_dir}/ft_to_vecs.pkl\", \"wb\") as file:\n",
    "    pickle.dump(ft_to_vecs, file)\n",
    "\n",
    "with open(f\"{output_dir}/ft_to_label_to_vecs.pkl\", \"wb\") as file:\n",
    "    pickle.dump(ft_to_label_to_vecs, file)\n",
    "\n",
    "for num_feat, vecs in ft_to_vecs.items():\n",
    "    ft_dir = f\"{output_dir}/ft_size_{num_feat}\"\n",
    "    os.makedirs(ft_dir, exist_ok = True)\n",
    "    filepath = f\"{ft_dir}/ft_{num_feat}.pack\"\n",
    "    save_fvecs(filepath, vecs)\n",
    "\n",
    "for num_feat, label_to_vecs in ft_to_label_to_vecs.items():\n",
    "    ft_dir = f\"{output_dir}/ft_size_{num_feat}\"\n",
    "    os.makedirs(ft_dir, exist_ok = True)\n",
    "    for label, vecs in label_to_vecs.items():\n",
    "        out_dir = f\"{ft_dir}/{label}\"\n",
    "        os.makedirs(out_dir, exist_ok = True)\n",
    "        filepath = f\"{out_dir}/{label}.pack\"\n",
    "        save_fvecs(filepath, vecs)"
   ]
  },
  {
   "cell_type": "code",
   "execution_count": null,
   "id": "0ccf7884-b00f-4e79-a979-08c3821f9bf4",
   "metadata": {},
   "outputs": [],
   "source": []
  }
 ],
 "metadata": {
  "kernelspec": {
   "display_name": "Python 3 (ipykernel)",
   "language": "python",
   "name": "python3"
  },
  "language_info": {
   "codemirror_mode": {
    "name": "ipython",
    "version": 3
   },
   "file_extension": ".py",
   "mimetype": "text/x-python",
   "name": "python",
   "nbconvert_exporter": "python",
   "pygments_lexer": "ipython3",
   "version": "3.12.3"
  }
 },
 "nbformat": 4,
 "nbformat_minor": 5
}
